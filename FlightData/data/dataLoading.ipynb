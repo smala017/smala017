{
 "cells": [
  {
   "cell_type": "code",
   "execution_count": 10,
   "metadata": {},
   "outputs": [],
   "source": [
    "import numpy as np\n",
    "import pandas as pd\n",
    "\n"
   ]
  },
  {
   "cell_type": "code",
   "execution_count": 11,
   "metadata": {},
   "outputs": [
    {
     "name": "stderr",
     "output_type": "stream",
     "text": [
      "C:\\Users\\smala\\AppData\\Local\\Temp\\ipykernel_28904\\2520876213.py:2: DtypeWarning: Columns (1,2) have mixed types. Specify dtype option on import or set low_memory=False.\n",
      "  flights=pd.read_csv(\"flightsCondensed.csv\",usecols=[\"AIRLINE\", \"ORIGIN_AIRPORT\", \"DESTINATION_AIRPORT\", \"ARRIVAL_DELAY\"])\n"
     ]
    },
    {
     "data": {
      "text/plain": [
       "5819079"
      ]
     },
     "execution_count": 11,
     "metadata": {},
     "output_type": "execute_result"
    }
   ],
   "source": [
    "#this ysed to read the full flights data and extract only the given columns\n",
    "flights=pd.read_csv(\"flightsCondensed.csv\",usecols=[\"AIRLINE\", \"ORIGIN_AIRPORT\", \"DESTINATION_AIRPORT\", \"ARRIVAL_DELAY\"]) \n",
    "\n",
    "len(flights)"
   ]
  },
  {
   "cell_type": "code",
   "execution_count": 12,
   "metadata": {},
   "outputs": [
    {
     "name": "stdout",
     "output_type": "stream",
     "text": [
      "4.29164917369566\n"
     ]
    }
   ],
   "source": [
    "print(flights[\"ARRIVAL_DELAY\"][flights[\"ORIGIN_AIRPORT\"] == \"BOS\"].mean())"
   ]
  },
  {
   "cell_type": "code",
   "execution_count": 13,
   "metadata": {},
   "outputs": [],
   "source": [
    "flights.to_csv(\"flightsCondensed.csv\", index=False)"
   ]
  },
  {
   "cell_type": "code",
   "execution_count": 19,
   "metadata": {},
   "outputs": [],
   "source": [
    "airports=pd.read_csv(\"airports.csv\")\n"
   ]
  },
  {
   "cell_type": "code",
   "execution_count": 34,
   "metadata": {},
   "outputs": [],
   "source": [
    "\n",
    "# Count the number of flights that either originate from or arrive at the given airport\n",
    "def countTotalFlights(iata): \n",
    "    return np.sum((flights[\"ORIGIN_AIRPORT\"] == iata) | (flights[\"DESTINATION_AIRPORT\"] == iata))\n",
    "\n",
    "def countFlights(iata, airline):\n",
    "    if airline == \"Other\": \n",
    "        return countTotalFlights(iata) - countFlights(iata, \"UA\") - countFlights(iata, \"DL\") - countFlights(iata, \"AA\")\n",
    "    else:\n",
    "        return np.sum(\n",
    "            ((flights[\"ORIGIN_AIRPORT\"] == iata) | (flights[\"DESTINATION_AIRPORT\"] == iata))\n",
    "            & (flights[\"AIRLINE\"] == airline))\n",
    "    \n",
    "def avgDelay(iata, airline, inout):\n",
    "    airportCol = \"\"\n",
    "    if inout == \"in\":\n",
    "        airportCol = \"DESTINATION_AIRPORT\"\n",
    "    if inout == \"out\":\n",
    "        airportCol = \"ORIGIN_AIRPORT\"\n",
    "    \n",
    "    if airline == \"Other\":\n",
    "        return flights[\"ARRIVAL_DELAY\"][(flights[airportCol] == iata) \n",
    "                                        & (flights[\"AIRLINE\"] != \"UA\")\n",
    "                                        & (flights[\"AIRLINE\"] != \"DL\")\n",
    "                                        & (flights[\"AIRLINE\"] != \"AA\")].mean()\n",
    "    else:\n",
    "        return flights[\"ARRIVAL_DELAY\"][(flights[airportCol] == iata) \n",
    "                                        & (flights[\"AIRLINE\"] == airline)].mean()"
   ]
  },
  {
   "cell_type": "code",
   "execution_count": null,
   "metadata": {},
   "outputs": [],
   "source": [
    "airports[\"TOTAL_FLIGHTS\"] = airports.apply (lambda airport : countTotalFlights(airport[\"IATA_CODE\"]), axis=1)\n",
    "print(\"total flights done\")\n"
   ]
  },
  {
   "cell_type": "code",
   "execution_count": 35,
   "metadata": {},
   "outputs": [
    {
     "name": "stdout",
     "output_type": "stream",
     "text": [
      "united flights done\n",
      "939658\n",
      "delta flights done\n",
      "american flights done\n",
      "other flights done\n"
     ]
    }
   ],
   "source": [
    "airports[\"UNITED_FLIGHTS\"] = airports.apply (lambda airport : countFlights(airport[\"IATA_CODE\"], \"UA\"), axis=1)\n",
    "print(\"united flights done\")\n",
    "print(np.sum(airports[\"UNITED_FLIGHTS\"]))\n",
    "airports[\"DELTA_FLIGHTS\"] = airports.apply (lambda airport : countFlights(airport[\"IATA_CODE\"], \"DL\"), axis=1)\n",
    "print(\"delta flights done\")\n",
    "airports[\"AMERICAN_FLIGHTS\"] = airports.apply (lambda airport : countFlights(airport[\"IATA_CODE\"], \"AA\"), axis=1)\n",
    "print(\"american flights done\")\n",
    "airports[\"OTHER_FLIGHTS\"] = airports.apply (lambda airport : countFlights(airport[\"IATA_CODE\"], \"Other\"), axis=1)\n",
    "print(\"other flights done\")"
   ]
  },
  {
   "cell_type": "code",
   "execution_count": null,
   "metadata": {},
   "outputs": [],
   "source": [
    "airports[\"UNITED_IN_DELAY\"] = airports.apply (lambda airport : avgDelay(airport[\"IATA_CODE\"], \"UA\", \"in\"), axis=1)\n",
    "print(\"united in-delays done\")\n",
    "airports[\"DELTA_IN_DELAY\"] = airports.apply (lambda airport : avgDelay(airport[\"IATA_CODE\"], \"DL\", \"in\"), axis=1)\n",
    "print(\"delta in-delays done\")\n",
    "airports[\"AMERICAN_IN_DELAY\"] = airports.apply (lambda airport : avgDelay(airport[\"IATA_CODE\"], \"AA\", \"in\"), axis=1)\n",
    "print(\"american in-delays done\")\n",
    "airports[\"OTHER_IN_DELAY\"] = airports.apply (lambda airport : avgDelay(airport[\"IATA_CODE\"], \"Other\", \"in\"), axis=1)\n",
    "print(\"other in-delays done\")\n",
    "\n",
    "airports[\"UNITED_OUT_DELAY\"] = airports.apply (lambda airport : avgDelay(airport[\"IATA_CODE\"], \"UA\", \"out\"), axis=1)\n",
    "print(\"united out-delays done\")\n",
    "airports[\"DELTA_OUT_DELAY\"] = airports.apply (lambda airport : avgDelay(airport[\"IATA_CODE\"], \"DL\", \"out\"), axis=1)\n",
    "print(\"delta out-delays done\")\n",
    "airports[\"AMERICAN_OUT_DELAY\"] = airports.apply (lambda airport : avgDelay(airport[\"IATA_CODE\"], \"AA\", \"out\"), axis=1)\n",
    "print(\"american out-delays done\")\n",
    "airports[\"OTHER_OUT_DELAY\"] = airports.apply (lambda airport : avgDelay(airport[\"IATA_CODE\"], \"Other\", \"out\"), axis=1)\n",
    "print(\"other out-delays done\")"
   ]
  },
  {
   "cell_type": "code",
   "execution_count": 37,
   "metadata": {},
   "outputs": [],
   "source": [
    "airports.fillna(0, inplace=True)"
   ]
  },
  {
   "cell_type": "code",
   "execution_count": 38,
   "metadata": {},
   "outputs": [],
   "source": [
    "airports.to_csv(\"airports.csv\", index=False)"
   ]
  }
 ],
 "metadata": {
  "kernelspec": {
   "display_name": "Python 3",
   "language": "python",
   "name": "python3"
  },
  "language_info": {
   "codemirror_mode": {
    "name": "ipython",
    "version": 3
   },
   "file_extension": ".py",
   "mimetype": "text/x-python",
   "name": "python",
   "nbconvert_exporter": "python",
   "pygments_lexer": "ipython3",
   "version": "3.10.11"
  },
  "orig_nbformat": 4,
  "vscode": {
   "interpreter": {
    "hash": "acbe0b2982a3b8fdcdabcdd324edc17367c1d76f2fb1ef3d17613693fc0623db"
   }
  }
 },
 "nbformat": 4,
 "nbformat_minor": 2
}

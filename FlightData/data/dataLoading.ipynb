{
 "cells": [
  {
   "cell_type": "code",
   "execution_count": 28,
   "metadata": {},
   "outputs": [],
   "source": [
    "import numpy as np\n",
    "import pandas as pd\n",
    "\n"
   ]
  },
  {
   "cell_type": "code",
   "execution_count": 29,
   "metadata": {},
   "outputs": [
    {
     "name": "stderr",
     "output_type": "stream",
     "text": [
      "C:\\Users\\smala\\AppData\\Local\\Temp\\ipykernel_13596\\2520876213.py:2: DtypeWarning: Columns (1,2) have mixed types. Specify dtype option on import or set low_memory=False.\n",
      "  flights=pd.read_csv(\"flightsCondensed.csv\",usecols=[\"AIRLINE\", \"ORIGIN_AIRPORT\", \"DESTINATION_AIRPORT\", \"ARRIVAL_DELAY\"])\n"
     ]
    },
    {
     "data": {
      "text/plain": [
       "5819079"
      ]
     },
     "execution_count": 29,
     "metadata": {},
     "output_type": "execute_result"
    }
   ],
   "source": [
    "#this ysed to read the full flights data and extract only the given columns\n",
    "flights=pd.read_csv(\"flightsCondensed.csv\",usecols=[\"AIRLINE\", \"ORIGIN_AIRPORT\", \"DESTINATION_AIRPORT\", \"ARRIVAL_DELAY\"]) \n",
    "\n",
    "len(flights)"
   ]
  },
  {
   "cell_type": "code",
   "execution_count": 30,
   "metadata": {},
   "outputs": [],
   "source": [
    "flights.to_csv(\"flightsCondensed.csv\", index=False)"
   ]
  },
  {
   "cell_type": "code",
   "execution_count": 33,
   "metadata": {},
   "outputs": [],
   "source": [
    "airports=pd.read_csv(\"airports.csv\")\n"
   ]
  },
  {
   "cell_type": "code",
   "execution_count": 36,
   "metadata": {},
   "outputs": [
    {
     "name": "stdout",
     "output_type": "stream",
     "text": [
      "0       4550\n",
      "1       4656\n",
      "2      38380\n",
      "3       1342\n",
      "4       1752\n",
      "       ...  \n",
      "317     1328\n",
      "318      416\n",
      "319    18567\n",
      "320     1324\n",
      "321     3755\n",
      "Name: TOTAL_FLIGHTS, Length: 322, dtype: int64\n",
      "10665828\n",
      "11638158\n"
     ]
    }
   ],
   "source": [
    "# Count the number of flights that either originate from or arrive at the given airport\n",
    "def countFlights(iata): \n",
    "    return np.sum((flights[\"ORIGIN_AIRPORT\"] == iata) | (flights[\"DESTINATION_AIRPORT\"] == iata))\n",
    "\n",
    "\n",
    "airports[\"TOTAL_FLIGHTS\"] = airports.apply (lambda airport : countFlights(airport[\"IATA_CODE\"]), axis=1)\n",
    "\n",
    "print(airports[\"TOTAL_FLIGHTS\"])\n",
    "print(airports[\"TOTAL_FLIGHTS\"].sum())\n",
    "print(len(flights) * 2)\n",
    "\n",
    "\n",
    "airports.to_csv(\"airports.csv\", index=False)\n"
   ]
  }
 ],
 "metadata": {
  "kernelspec": {
   "display_name": "Python 3",
   "language": "python",
   "name": "python3"
  },
  "language_info": {
   "codemirror_mode": {
    "name": "ipython",
    "version": 3
   },
   "file_extension": ".py",
   "mimetype": "text/x-python",
   "name": "python",
   "nbconvert_exporter": "python",
   "pygments_lexer": "ipython3",
   "version": "3.10.10"
  },
  "orig_nbformat": 4,
  "vscode": {
   "interpreter": {
    "hash": "acbe0b2982a3b8fdcdabcdd324edc17367c1d76f2fb1ef3d17613693fc0623db"
   }
  }
 },
 "nbformat": 4,
 "nbformat_minor": 2
}
